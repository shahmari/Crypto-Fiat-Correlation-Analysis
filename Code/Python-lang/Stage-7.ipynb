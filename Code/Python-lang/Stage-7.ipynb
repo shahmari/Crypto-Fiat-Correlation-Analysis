{
 "cells": [
  {
   "cell_type": "markdown",
   "metadata": {},
   "source": [
    "### ***Initializing and Importing Packages***"
   ]
  },
  {
   "cell_type": "code",
   "execution_count": 1,
   "metadata": {},
   "outputs": [
    {
     "data": {
      "text/html": [
       "\n",
       "\t\t\t<script type=\"text/javascript\">\n",
       "\t\t\t<!--\n",
       "\t\t\t\t\n",
       "\t\t\t{\n",
       "\t\t\t\tvar element = document.getElementById('NetworKit_script');\n",
       "\t\t\t\tif (element) {\n",
       "\t\t\t\t\telement.parentNode.removeChild(element);\n",
       "\t\t\t\t}\n",
       "\t\t\t\telement = document.createElement('script');\n",
       "\t\t\t\telement.type = 'text/javascript';\n",
       "\t\t\t\telement.innerHTML = 'function NetworKit_pageEmbed(id) { var i, j; var elements; elements = document.getElementById(id).getElementsByClassName(\"Plot\"); for (i=0; i<elements.length; i++) { elements[i].id = id + \"_Plot_\" + i; var data = elements[i].getAttribute(\"data-image\").split(\"|\"); elements[i].removeAttribute(\"data-image\"); var content = \"<div class=\\\\\"Image\\\\\" id=\\\\\"\" + elements[i].id + \"_Image\\\\\" />\"; elements[i].innerHTML = content; elements[i].setAttribute(\"data-image-index\", 0); elements[i].setAttribute(\"data-image-length\", data.length); for (j=0; j<data.length; j++) { elements[i].setAttribute(\"data-image-\" + j, data[j]); } NetworKit_plotUpdate(elements[i]); elements[i].onclick = function (e) { NetworKit_overlayShow((e.target) ? e.target : e.srcElement); } } elements = document.getElementById(id).getElementsByClassName(\"HeatCell\"); for (i=0; i<elements.length; i++) { var data = parseFloat(elements[i].getAttribute(\"data-heat\")); var color = \"#00FF00\"; if (data <= 1 && data > 0) { color = \"hsla(0, 100%, 75%, \" + (data) + \")\"; } else if (data <= 0 && data >= -1) { color = \"hsla(240, 100%, 75%, \" + (-data) + \")\"; } elements[i].style.backgroundColor = color; } elements = document.getElementById(id).getElementsByClassName(\"Details\"); for (i=0; i<elements.length; i++) { elements[i].setAttribute(\"data-title\", \"-\"); NetworKit_toggleDetails(elements[i]); elements[i].onclick = function (e) { NetworKit_toggleDetails((e.target) ? e.target : e.srcElement); } } elements = document.getElementById(id).getElementsByClassName(\"MathValue\"); for (i=elements.length-1; i>=0; i--) { value = elements[i].innerHTML.trim(); if (value === \"nan\") { elements[i].parentNode.innerHTML = \"\" } } elements = document.getElementById(id).getElementsByClassName(\"SubCategory\"); for (i=elements.length-1; i>=0; i--) { value = elements[i].innerHTML.trim(); if (value === \"\") { elements[i].parentNode.removeChild(elements[i]) } } elements = document.getElementById(id).getElementsByClassName(\"Category\"); for (i=elements.length-1; i>=0; i--) { value = elements[i].innerHTML.trim(); if (value === \"\") { elements[i].parentNode.removeChild(elements[i]) } } var isFirefox = false; try { isFirefox = typeof InstallTrigger !== \"undefined\"; } catch (e) {} if (!isFirefox) { alert(\"Currently the function\\'s output is only fully supported by Firefox.\"); } } function NetworKit_plotUpdate(source) { var index = source.getAttribute(\"data-image-index\"); var data = source.getAttribute(\"data-image-\" + index); var image = document.getElementById(source.id + \"_Image\"); image.style.backgroundImage = \"url(\" + data + \")\"; } function NetworKit_showElement(id, show) { var element = document.getElementById(id); element.style.display = (show) ? \"block\" : \"none\"; } function NetworKit_overlayShow(source) { NetworKit_overlayUpdate(source); NetworKit_showElement(\"NetworKit_Overlay\", true); } function NetworKit_overlayUpdate(source) { document.getElementById(\"NetworKit_Overlay_Title\").innerHTML = source.title; var index = source.getAttribute(\"data-image-index\"); var data = source.getAttribute(\"data-image-\" + index); var image = document.getElementById(\"NetworKit_Overlay_Image\"); image.setAttribute(\"data-id\", source.id); image.style.backgroundImage = \"url(\" + data + \")\"; var link = document.getElementById(\"NetworKit_Overlay_Toolbar_Bottom_Save\"); link.href = data; link.download = source.title + \".svg\"; } function NetworKit_overlayImageShift(delta) { var image = document.getElementById(\"NetworKit_Overlay_Image\"); var source = document.getElementById(image.getAttribute(\"data-id\")); var index = parseInt(source.getAttribute(\"data-image-index\")); var length = parseInt(source.getAttribute(\"data-image-length\")); var index = (index+delta) % length; if (index < 0) { index = length + index; } source.setAttribute(\"data-image-index\", index); NetworKit_overlayUpdate(source); } function NetworKit_toggleDetails(source) { var childs = source.children; var show = false; if (source.getAttribute(\"data-title\") == \"-\") { source.setAttribute(\"data-title\", \"+\"); show = false; } else { source.setAttribute(\"data-title\", \"-\"); show = true; } for (i=0; i<childs.length; i++) { if (show) { childs[i].style.display = \"block\"; } else { childs[i].style.display = \"none\"; } } }';\n",
       "\t\t\t\telement.setAttribute('id', 'NetworKit_script');\n",
       "\t\t\t\tdocument.head.appendChild(element);\n",
       "\t\t\t}\n",
       "\t\t\n",
       "\t\t\t\t\n",
       "\t\t\t{\n",
       "\t\t\t\tvar element = document.getElementById('NetworKit_style');\n",
       "\t\t\t\tif (element) {\n",
       "\t\t\t\t\telement.parentNode.removeChild(element);\n",
       "\t\t\t\t}\n",
       "\t\t\t\telement = document.createElement('style');\n",
       "\t\t\t\telement.type = 'text/css';\n",
       "\t\t\t\telement.innerHTML = '.NetworKit_Page { font-family: Arial, Helvetica, sans-serif; font-size: 14px; } .NetworKit_Page .Value:before { font-family: Arial, Helvetica, sans-serif; font-size: 1.05em; content: attr(data-title) \":\"; margin-left: -2.5em; padding-right: 0.5em; } .NetworKit_Page .Details .Value:before { display: block; } .NetworKit_Page .Value { font-family: monospace; white-space: pre; padding-left: 2.5em; white-space: -moz-pre-wrap !important; white-space: -pre-wrap; white-space: -o-pre-wrap; white-space: pre-wrap; word-wrap: break-word; tab-size: 4; -moz-tab-size: 4; } .NetworKit_Page .Category { clear: both; padding-left: 1em; margin-bottom: 1.5em; } .NetworKit_Page .Category:before { content: attr(data-title); font-size: 1.75em; display: block; margin-left: -0.8em; margin-bottom: 0.5em; } .NetworKit_Page .SubCategory { margin-bottom: 1.5em; padding-left: 1em; } .NetworKit_Page .SubCategory:before { font-size: 1.6em; display: block; margin-left: -0.8em; margin-bottom: 0.5em; } .NetworKit_Page .SubCategory[data-title]:before { content: attr(data-title); } .NetworKit_Page .Block { display: block; } .NetworKit_Page .Block:after { content: \".\"; visibility: hidden; display: block; height: 0; clear: both; } .NetworKit_Page .Block .Thumbnail_Overview, .NetworKit_Page .Block .Thumbnail_ScatterPlot { width: 260px; float: left; } .NetworKit_Page .Block .Thumbnail_Overview img, .NetworKit_Page .Block .Thumbnail_ScatterPlot img { width: 260px; } .NetworKit_Page .Block .Thumbnail_Overview:before, .NetworKit_Page .Block .Thumbnail_ScatterPlot:before { display: block; text-align: center; font-weight: bold; } .NetworKit_Page .Block .Thumbnail_Overview:before { content: attr(data-title); } .NetworKit_Page .HeatCell { font-family: \"Courier New\", Courier, monospace; cursor: pointer; } .NetworKit_Page .HeatCell, .NetworKit_Page .HeatCellName { display: inline; padding: 0.1em; margin-right: 2px; background-color: #FFFFFF } .NetworKit_Page .HeatCellName { margin-left: 0.25em; } .NetworKit_Page .HeatCell:before { content: attr(data-heat); display: inline-block; color: #000000; width: 4em; text-align: center; } .NetworKit_Page .Measure { clear: both; } .NetworKit_Page .Measure .Details { cursor: pointer; } .NetworKit_Page .Measure .Details:before { content: \"[\" attr(data-title) \"]\"; display: block; } .NetworKit_Page .Measure .Details .Value { border-left: 1px dotted black; margin-left: 0.4em; padding-left: 3.5em; pointer-events: none; } .NetworKit_Page .Measure .Details .Spacer:before { content: \".\"; opacity: 0.0; pointer-events: none; } .NetworKit_Page .Measure .Plot { width: 440px; height: 440px; cursor: pointer; float: left; margin-left: -0.9em; margin-right: 20px; } .NetworKit_Page .Measure .Plot .Image { background-repeat: no-repeat; background-position: center center; background-size: contain; height: 100%; pointer-events: none; } .NetworKit_Page .Measure .Stat { width: 500px; float: left; } .NetworKit_Page .Measure .Stat .Group { padding-left: 1.25em; margin-bottom: 0.75em; } .NetworKit_Page .Measure .Stat .Group .Title { font-size: 1.1em; display: block; margin-bottom: 0.3em; margin-left: -0.75em; border-right-style: dotted; border-right-width: 1px; border-bottom-style: dotted; border-bottom-width: 1px; background-color: #D0D0D0; padding-left: 0.2em; } .NetworKit_Page .Measure .Stat .Group .List { -webkit-column-count: 3; -moz-column-count: 3; column-count: 3; } .NetworKit_Page .Measure .Stat .Group .List .Entry { position: relative; line-height: 1.75em; } .NetworKit_Page .Measure .Stat .Group .List .Entry[data-tooltip]:before { position: absolute; left: 0; top: -40px; background-color: #808080; color: #ffffff; height: 30px; line-height: 30px; border-radius: 5px; padding: 0 15px; content: attr(data-tooltip); white-space: nowrap; display: none; } .NetworKit_Page .Measure .Stat .Group .List .Entry[data-tooltip]:after { position: absolute; left: 15px; top: -10px; border-top: 7px solid #808080; border-left: 7px solid transparent; border-right: 7px solid transparent; content: \"\"; display: none; } .NetworKit_Page .Measure .Stat .Group .List .Entry[data-tooltip]:hover:after, .NetworKit_Page .Measure .Stat .Group .List .Entry[data-tooltip]:hover:before { display: block; } .NetworKit_Page .Measure .Stat .Group .List .Entry .MathValue { font-family: \"Courier New\", Courier, monospace; } .NetworKit_Page .Measure:after { content: \".\"; visibility: hidden; display: block; height: 0; clear: both; } .NetworKit_Page .PartitionPie { clear: both; } .NetworKit_Page .PartitionPie img { width: 600px; } #NetworKit_Overlay { left: 0px; top: 0px; display: none; position: absolute; width: 100%; height: 100%; background-color: rgba(0,0,0,0.6); z-index: 1000; } #NetworKit_Overlay_Title { position: absolute; color: white; transform: rotate(-90deg); width: 32em; height: 32em; padding-right: 0.5em; padding-top: 0.5em; text-align: right; font-size: 40px; } #NetworKit_Overlay .button { background: white; cursor: pointer; } #NetworKit_Overlay .button:before { size: 13px; display: inline-block; text-align: center; margin-top: 0.5em; margin-bottom: 0.5em; width: 1.5em; height: 1.5em; } #NetworKit_Overlay .icon-close:before { content: \"X\"; } #NetworKit_Overlay .icon-previous:before { content: \"P\"; } #NetworKit_Overlay .icon-next:before { content: \"N\"; } #NetworKit_Overlay .icon-save:before { content: \"S\"; } #NetworKit_Overlay_Toolbar_Top, #NetworKit_Overlay_Toolbar_Bottom { position: absolute; width: 40px; right: 13px; text-align: right; z-index: 1100; } #NetworKit_Overlay_Toolbar_Top { top: 0.5em; } #NetworKit_Overlay_Toolbar_Bottom { Bottom: 0.5em; } #NetworKit_Overlay_ImageContainer { position: absolute; top: 5%; left: 5%; height: 90%; width: 90%; background-repeat: no-repeat; background-position: center center; background-size: contain; } #NetworKit_Overlay_Image { height: 100%; width: 100%; background-repeat: no-repeat; background-position: center center; background-size: contain; }';\n",
       "\t\t\t\telement.setAttribute('id', 'NetworKit_style');\n",
       "\t\t\t\tdocument.head.appendChild(element);\n",
       "\t\t\t}\n",
       "\t\t\n",
       "\t\t\t\t\n",
       "\t\t\t{\n",
       "\t\t\t\tvar element = document.getElementById('NetworKit_Overlay');\n",
       "\t\t\t\tif (element) {\n",
       "\t\t\t\t\telement.parentNode.removeChild(element);\n",
       "\t\t\t\t}\n",
       "\t\t\t\telement = document.createElement('div');\n",
       "\t\t\t\telement.innerHTML = '<div id=\"NetworKit_Overlay_Toolbar_Top\"><div class=\"button icon-close\" id=\"NetworKit_Overlay_Close\" /></div><div id=\"NetworKit_Overlay_Title\" /> <div id=\"NetworKit_Overlay_ImageContainer\"> <div id=\"NetworKit_Overlay_Image\" /> </div> <div id=\"NetworKit_Overlay_Toolbar_Bottom\"> <div class=\"button icon-previous\" onclick=\"NetworKit_overlayImageShift(-1)\" /> <div class=\"button icon-next\" onclick=\"NetworKit_overlayImageShift(1)\" /> <a id=\"NetworKit_Overlay_Toolbar_Bottom_Save\"><div class=\"button icon-save\" /></a> </div>';\n",
       "\t\t\t\telement.setAttribute('id', 'NetworKit_Overlay');\n",
       "\t\t\t\tdocument.body.appendChild(element);\n",
       "\t\t\t\tdocument.getElementById('NetworKit_Overlay_Close').onclick = function (e) {\n",
       "\t\t\t\t\tdocument.getElementById('NetworKit_Overlay').style.display = 'none';\n",
       "\t\t\t\t}\n",
       "\t\t\t}\n",
       "\t\t\n",
       "\t\t\t-->\n",
       "\t\t\t</script>\n",
       "\t\t"
      ]
     },
     "metadata": {},
     "output_type": "display_data"
    }
   ],
   "source": [
    "import pandas as pd\n",
    "import numpy as np\n",
    "import matplotlib.pyplot as plt\n",
    "import statsmodels.tsa.stattools as sts\n",
    "from statsmodels.tsa.stattools import grangercausalitytests\n",
    "from statsmodels.tsa.api import VAR\n",
    "from statsmodels.tools.eval_measures import rmse, aic\n",
    "import networkit as nk \n",
    "import networkx as nx\n",
    "from igraph import *\n",
    "import seaborn as sns\n",
    "\n",
    "import Funcs\n",
    "\n",
    "sns.color_palette(\"Set2\")\n",
    "sns.set_theme()\n",
    "# For the image quality of the graphic. \n",
    "sns.set(rc={\"figure.dpi\":250})\n",
    "# For the size of the graphics\n",
    "sns.set(rc = {\"figure.figsize\":(4,2)})\n",
    "sns.set(font_scale = 0.5)\n",
    "\n",
    "DataDir = \"../../Data/\"\n",
    "FigsDir = \"../../Figs/\"\n",
    "\n",
    "symboles = [ 'ADA', 'BTC', 'ETH', 'SOL', 'XRP']\n"
   ]
  },
  {
   "cell_type": "markdown",
   "metadata": {},
   "source": [
    "### ***Prepairing the Data*** "
   ]
  },
  {
   "cell_type": "code",
   "execution_count": 2,
   "metadata": {},
   "outputs": [],
   "source": [
    "Funcs.RepairData(DataDir, symboles)"
   ]
  },
  {
   "cell_type": "markdown",
   "metadata": {},
   "source": [
    "#### ***Plotting the Returns*** "
   ]
  },
  {
   "cell_type": "code",
   "execution_count": 3,
   "metadata": {},
   "outputs": [
    {
     "data": {
      "image/png": "[encoded data removed]",
      "text/plain": [
       "<Figure size 432x288 with 1 Axes>"
      ]
     },
     "metadata": {
      "needs_background": "light"
     },
     "output_type": "display_data"
    }
   ],
   "source": [
    "returns_df = Funcs.LoadData(DataDir, symboles)\n",
    "plt.style.use('seaborn-pastel')\n",
    "for sym in symboles:\n",
    "    plt.plot(returns_df['time_close'], returns_df['%s' % sym], label = '%s' % sym, alpha = 0.7)\n",
    "\n",
    "plt.title('Minutly Returns of coins')\n",
    "plt.xlabel('Time')\n",
    "plt.xticks(rotation=90)\n",
    "plt.ylabel('Returns')\n",
    "plt.legend(loc=1, prop={'size': 4})\n",
    "plt.show()"
   ]
  },
  {
   "cell_type": "markdown",
   "metadata": {},
   "source": [
    "### ***The Eddy-Fuller test***"
   ]
  },
  {
   "cell_type": "code",
   "execution_count": 4,
   "metadata": {},
   "outputs": [
    {
     "name": "stdout",
     "output_type": "stream",
     "text": [
      "p-value (ADA) = 6.478327163602919e-30 \n",
      "p-value (BTC) = 2.027917833467083e-30 \n",
      "p-value (ETH) = 0.0 \n",
      "p-value (SOL) = 0.0 \n",
      "p-value (XRP) = 0.0 \n"
     ]
    }
   ],
   "source": [
    "Funcs.Eddy_Fuller_test(returns_df, symboles)"
   ]
  },
  {
   "cell_type": "markdown",
   "metadata": {},
   "source": [
    "### ***Optimum Lag***"
   ]
  },
  {
   "cell_type": "code",
   "execution_count": 5,
   "metadata": {},
   "outputs": [
    {
     "data": {
      "text/html": [
       "<table class=\"simpletable\">\n",
       "<caption>VAR Order Selection (* highlights the minimums)</caption>\n",
       "<tr>\n",
       "   <td></td>      <th>AIC</th>         <th>BIC</th>         <th>FPE</th>        <th>HQIC</th>    \n",
       "</tr>\n",
       "<tr>\n",
       "  <th>0</th>  <td>    -7.563</td>  <td>    -7.554*</td> <td> 0.0005194</td>  <td>    -7.559*</td>\n",
       "</tr>\n",
       "<tr>\n",
       "  <th>1</th>  <td>    -7.563</td>  <td>    -7.537</td>  <td> 0.0005191</td>  <td>    -7.553</td> \n",
       "</tr>\n",
       "<tr>\n",
       "  <th>2</th>  <td>    -7.564</td>  <td>    -7.519</td>  <td> 0.0005190</td>  <td>    -7.547</td> \n",
       "</tr>\n",
       "<tr>\n",
       "  <th>3</th>  <td>    -7.565</td>  <td>    -7.502</td>  <td> 0.0005184</td>  <td>    -7.541</td> \n",
       "</tr>\n",
       "<tr>\n",
       "  <th>4</th>  <td>    -7.569*</td> <td>    -7.488</td>  <td> 0.0005164*</td> <td>    -7.538</td> \n",
       "</tr>\n",
       "<tr>\n",
       "  <th>5</th>  <td>    -7.567</td>  <td>    -7.469</td>  <td> 0.0005172</td>  <td>    -7.530</td> \n",
       "</tr>\n",
       "<tr>\n",
       "  <th>6</th>  <td>    -7.563</td>  <td>    -7.447</td>  <td> 0.0005195</td>  <td>    -7.519</td> \n",
       "</tr>\n",
       "<tr>\n",
       "  <th>7</th>  <td>    -7.564</td>  <td>    -7.430</td>  <td> 0.0005187</td>  <td>    -7.514</td> \n",
       "</tr>\n",
       "<tr>\n",
       "  <th>8</th>  <td>    -7.564</td>  <td>    -7.412</td>  <td> 0.0005190</td>  <td>    -7.506</td> \n",
       "</tr>\n",
       "<tr>\n",
       "  <th>9</th>  <td>    -7.560</td>  <td>    -7.391</td>  <td> 0.0005207</td>  <td>    -7.496</td> \n",
       "</tr>\n",
       "<tr>\n",
       "  <th>10</th> <td>    -7.559</td>  <td>    -7.372</td>  <td> 0.0005212</td>  <td>    -7.489</td> \n",
       "</tr>\n",
       "<tr>\n",
       "  <th>11</th> <td>    -7.556</td>  <td>    -7.351</td>  <td> 0.0005232</td>  <td>    -7.478</td> \n",
       "</tr>\n",
       "<tr>\n",
       "  <th>12</th> <td>    -7.554</td>  <td>    -7.331</td>  <td> 0.0005242</td>  <td>    -7.469</td> \n",
       "</tr>\n",
       "<tr>\n",
       "  <th>13</th> <td>    -7.549</td>  <td>    -7.308</td>  <td> 0.0005267</td>  <td>    -7.458</td> \n",
       "</tr>\n",
       "<tr>\n",
       "  <th>14</th> <td>    -7.546</td>  <td>    -7.287</td>  <td> 0.0005284</td>  <td>    -7.448</td> \n",
       "</tr>\n",
       "<tr>\n",
       "  <th>15</th> <td>    -7.551</td>  <td>    -7.274</td>  <td> 0.0005258</td>  <td>    -7.446</td> \n",
       "</tr>\n",
       "<tr>\n",
       "  <th>16</th> <td>    -7.544</td>  <td>    -7.250</td>  <td> 0.0005294</td>  <td>    -7.433</td> \n",
       "</tr>\n",
       "<tr>\n",
       "  <th>17</th> <td>    -7.538</td>  <td>    -7.226</td>  <td> 0.0005323</td>  <td>    -7.421</td> \n",
       "</tr>\n",
       "<tr>\n",
       "  <th>18</th> <td>    -7.535</td>  <td>    -7.205</td>  <td> 0.0005343</td>  <td>    -7.410</td> \n",
       "</tr>\n",
       "<tr>\n",
       "  <th>19</th> <td>    -7.534</td>  <td>    -7.186</td>  <td> 0.0005349</td>  <td>    -7.402</td> \n",
       "</tr>\n",
       "<tr>\n",
       "  <th>20</th> <td>    -7.528</td>  <td>    -7.163</td>  <td> 0.0005377</td>  <td>    -7.390</td> \n",
       "</tr>\n",
       "<tr>\n",
       "  <th>21</th> <td>    -7.526</td>  <td>    -7.142</td>  <td> 0.0005391</td>  <td>    -7.381</td> \n",
       "</tr>\n",
       "<tr>\n",
       "  <th>22</th> <td>    -7.522</td>  <td>    -7.121</td>  <td> 0.0005409</td>  <td>    -7.371</td> \n",
       "</tr>\n",
       "<tr>\n",
       "  <th>23</th> <td>    -7.517</td>  <td>    -7.098</td>  <td> 0.0005437</td>  <td>    -7.359</td> \n",
       "</tr>\n",
       "<tr>\n",
       "  <th>24</th> <td>    -7.514</td>  <td>    -7.077</td>  <td> 0.0005456</td>  <td>    -7.349</td> \n",
       "</tr>\n",
       "</table>"
      ],
      "text/plain": [
       "<class 'statsmodels.iolib.table.SimpleTable'>"
      ]
     },
     "execution_count": 5,
     "metadata": {},
     "output_type": "execute_result"
    }
   ],
   "source": [
    "Funcs.Optimum_lag(returns_df, symboles,24, 1, 3)"
   ]
  },
  {
   "cell_type": "markdown",
   "metadata": {},
   "source": [
    "### ***Granger-Cause Test***"
   ]
  },
  {
   "cell_type": "code",
   "execution_count": 6,
   "metadata": {},
   "outputs": [],
   "source": [
    "P_val_Dataframe, F_val_Dataframe = Funcs.grangers_causation_matrix(returns_df.iloc[:, 1:], variables=returns_df.columns[1:])\n"
   ]
  },
  {
   "cell_type": "code",
   "execution_count": 7,
   "metadata": {},
   "outputs": [
    {
     "data": {
      "text/html": [
       "<div>\n",
       "<style scoped>\n",
       "    .dataframe tbody tr th:only-of-type {\n",
       "        vertical-align: middle;\n",
       "    }\n",
       "\n",
       "    .dataframe tbody tr th {\n",
       "        vertical-align: top;\n",
       "    }\n",
       "\n",
       "    .dataframe thead th {\n",
       "        text-align: right;\n",
       "    }\n",
       "</style>\n",
       "<table border=\"1\" class=\"dataframe\">\n",
       "  <thead>\n",
       "    <tr style=\"text-align: right;\">\n",
       "      <th></th>\n",
       "      <th>ADA_x</th>\n",
       "      <th>BTC_x</th>\n",
       "      <th>ETH_x</th>\n",
       "      <th>SOL_x</th>\n",
       "      <th>XRP_x</th>\n",
       "    </tr>\n",
       "  </thead>\n",
       "  <tbody>\n",
       "    <tr>\n",
       "      <th>ADA_y</th>\n",
       "      <td>0.0000</td>\n",
       "      <td>1.0954</td>\n",
       "      <td>0.9051</td>\n",
       "      <td>1.2617</td>\n",
       "      <td>0.1496</td>\n",
       "    </tr>\n",
       "    <tr>\n",
       "      <th>BTC_y</th>\n",
       "      <td>0.7462</td>\n",
       "      <td>0.0000</td>\n",
       "      <td>1.9240</td>\n",
       "      <td>2.0195</td>\n",
       "      <td>1.9373</td>\n",
       "    </tr>\n",
       "    <tr>\n",
       "      <th>ETH_y</th>\n",
       "      <td>1.1592</td>\n",
       "      <td>0.9390</td>\n",
       "      <td>-0.0000</td>\n",
       "      <td>1.2867</td>\n",
       "      <td>0.7963</td>\n",
       "    </tr>\n",
       "    <tr>\n",
       "      <th>SOL_y</th>\n",
       "      <td>2.0190</td>\n",
       "      <td>3.2705</td>\n",
       "      <td>1.1631</td>\n",
       "      <td>-0.0000</td>\n",
       "      <td>1.1003</td>\n",
       "    </tr>\n",
       "    <tr>\n",
       "      <th>XRP_y</th>\n",
       "      <td>0.4130</td>\n",
       "      <td>2.1360</td>\n",
       "      <td>1.0388</td>\n",
       "      <td>1.6284</td>\n",
       "      <td>0.0000</td>\n",
       "    </tr>\n",
       "  </tbody>\n",
       "</table>\n",
       "</div>"
      ],
      "text/plain": [
       "        ADA_x   BTC_x   ETH_x   SOL_x   XRP_x\n",
       "ADA_y  0.0000  1.0954  0.9051  1.2617  0.1496\n",
       "BTC_y  0.7462  0.0000  1.9240  2.0195  1.9373\n",
       "ETH_y  1.1592  0.9390 -0.0000  1.2867  0.7963\n",
       "SOL_y  2.0190  3.2705  1.1631 -0.0000  1.1003\n",
       "XRP_y  0.4130  2.1360  1.0388  1.6284  0.0000"
      ]
     },
     "execution_count": 7,
     "metadata": {},
     "output_type": "execute_result"
    }
   ],
   "source": [
    "F_val_Dataframe #the dataframe consisting of the F scores for lag = 4"
   ]
  },
  {
   "cell_type": "code",
   "execution_count": 8,
   "metadata": {},
   "outputs": [
    {
     "data": {
      "text/html": [
       "<div>\n",
       "<style scoped>\n",
       "    .dataframe tbody tr th:only-of-type {\n",
       "        vertical-align: middle;\n",
       "    }\n",
       "\n",
       "    .dataframe tbody tr th {\n",
       "        vertical-align: top;\n",
       "    }\n",
       "\n",
       "    .dataframe thead th {\n",
       "        text-align: right;\n",
       "    }\n",
       "</style>\n",
       "<table border=\"1\" class=\"dataframe\">\n",
       "  <thead>\n",
       "    <tr style=\"text-align: right;\">\n",
       "      <th></th>\n",
       "      <th>ADA_x</th>\n",
       "      <th>BTC_x</th>\n",
       "      <th>ETH_x</th>\n",
       "      <th>SOL_x</th>\n",
       "      <th>XRP_x</th>\n",
       "    </tr>\n",
       "  </thead>\n",
       "  <tbody>\n",
       "    <tr>\n",
       "      <th>ADA_y</th>\n",
       "      <td>1.0000</td>\n",
       "      <td>0.1140</td>\n",
       "      <td>0.2821</td>\n",
       "      <td>0.0857</td>\n",
       "      <td>0.7744</td>\n",
       "    </tr>\n",
       "    <tr>\n",
       "      <th>BTC_y</th>\n",
       "      <td>0.2052</td>\n",
       "      <td>1.0000</td>\n",
       "      <td>0.0681</td>\n",
       "      <td>0.0064</td>\n",
       "      <td>0.0132</td>\n",
       "    </tr>\n",
       "    <tr>\n",
       "      <th>ETH_y</th>\n",
       "      <td>0.1977</td>\n",
       "      <td>0.2373</td>\n",
       "      <td>1.0000</td>\n",
       "      <td>0.0655</td>\n",
       "      <td>0.2125</td>\n",
       "    </tr>\n",
       "    <tr>\n",
       "      <th>SOL_y</th>\n",
       "      <td>0.0425</td>\n",
       "      <td>0.0070</td>\n",
       "      <td>0.1488</td>\n",
       "      <td>1.0000</td>\n",
       "      <td>0.1050</td>\n",
       "    </tr>\n",
       "    <tr>\n",
       "      <th>XRP_y</th>\n",
       "      <td>0.6227</td>\n",
       "      <td>0.0143</td>\n",
       "      <td>0.1338</td>\n",
       "      <td>0.0751</td>\n",
       "      <td>1.0000</td>\n",
       "    </tr>\n",
       "  </tbody>\n",
       "</table>\n",
       "</div>"
      ],
      "text/plain": [
       "        ADA_x   BTC_x   ETH_x   SOL_x   XRP_x\n",
       "ADA_y  1.0000  0.1140  0.2821  0.0857  0.7744\n",
       "BTC_y  0.2052  1.0000  0.0681  0.0064  0.0132\n",
       "ETH_y  0.1977  0.2373  1.0000  0.0655  0.2125\n",
       "SOL_y  0.0425  0.0070  0.1488  1.0000  0.1050\n",
       "XRP_y  0.6227  0.0143  0.1338  0.0751  1.0000"
      ]
     },
     "execution_count": 8,
     "metadata": {},
     "output_type": "execute_result"
    }
   ],
   "source": [
    "P_val_Dataframe #the dataframe consisting the minimum p-values"
   ]
  },
  {
   "cell_type": "code",
   "execution_count": 9,
   "metadata": {},
   "outputs": [
    {
     "data": {
      "image/png": "[encoded data removed]",
      "text/plain": [
       "<Figure size 432x288 with 3 Axes>"
      ]
     },
     "metadata": {
      "needs_background": "light"
     },
     "output_type": "display_data"
    }
   ],
   "source": [
    "plt.subplot(1,2,2)\n",
    "sns.heatmap(F_val_Dataframe, annot = True, cmap=\"YlGnBu\")\n",
    "plt.title('F-scores')\n",
    "\n",
    "plt.subplot(1,2,1)\n",
    "sns.heatmap(P_val_Dataframe, annot = True, cmap=\"YlGnBu\" , cbar = False)\n",
    "plt.title('P-values')\n",
    "plt.xticks(rotation=90)\n",
    "\n",
    "plt.suptitle('Heatmap Plots for Granger-Causality Test Results')\n",
    "plt.subplots_adjust(top=0.8)"
   ]
  },
  {
   "cell_type": "markdown",
   "metadata": {},
   "source": [
    "### ***Graph***"
   ]
  },
  {
   "cell_type": "code",
   "execution_count": 10,
   "metadata": {},
   "outputs": [],
   "source": [
    "Matrix_ = Funcs.ScaleData(P_val_Dataframe)"
   ]
  },
  {
   "cell_type": "code",
   "execution_count": 11,
   "metadata": {},
   "outputs": [
    {
     "data": {
      "image/png": "[encoded data removed]",
      "text/plain": [
       "<Figure size 432x288 with 1 Axes>"
      ]
     },
     "metadata": {},
     "output_type": "display_data"
    }
   ],
   "source": [
    "Funcs.MST_Graph(Matrix_, symboles)"
   ]
  },
  {
   "cell_type": "code",
   "execution_count": 12,
   "metadata": {},
   "outputs": [
    {
     "data": {
      "image/png": "[encoded data removed]",
      "text/plain": [
       "<Figure size 432x288 with 1 Axes>"
      ]
     },
     "metadata": {},
     "output_type": "display_data"
    }
   ],
   "source": [
    "Matrix_ = np.array(F_val_Dataframe)\n",
    "Funcs.MST_Graph(Matrix_, symboles)"
   ]
  }
 ],
 "metadata": {
  "kernelspec": {
   "display_name": "Python 3.10.4 64-bit",
   "language": "python",
   "name": "python3"
  },
  "language_info": {
   "codemirror_mode": {
    "name": "ipython",
    "version": 3
   },
   "file_extension": ".py",
   "mimetype": "text/x-python",
   "name": "python",
   "nbconvert_exporter": "python",
   "pygments_lexer": "ipython3",
   "version": "3.10.4"
  },
  "orig_nbformat": 4,
  "vscode": {
   "interpreter": {
    "hash": "02354ccb5a73f36c13829cfb793a21bcf662122542ec23ffab0f24c5422716ba"
   }
  }
 },
 "nbformat": 4,
 "nbformat_minor": 2
}
