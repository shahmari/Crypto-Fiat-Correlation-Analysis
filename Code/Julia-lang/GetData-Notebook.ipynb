{
 "cells": [
  {
   "cell_type": "markdown",
   "metadata": {},
   "source": [
    "### ***Initializing and Importing Packages***"
   ]
  },
  {
   "cell_type": "code",
   "execution_count": 38,
   "metadata": {},
   "outputs": [],
   "source": [
    "using ProgressMeter, Dates, HTTP, JLD, JSON\n",
    "\n",
    "DataDir = \"../../Data/\";\n",
    "FigsDir = \"../../Figs/\";\n",
    "\n",
    "include(\"Modules.jl\");"
   ]
  },
  {
   "cell_type": "markdown",
   "metadata": {},
   "source": [
    "### ***Get and save data***"
   ]
  },
  {
   "cell_type": "markdown",
   "metadata": {},
   "source": [
    "#### ***Get Crypto Data***"
   ]
  },
  {
   "cell_type": "markdown",
   "metadata": {},
   "source": [
    "##### ***CoinAPI Data***"
   ]
  },
  {
   "cell_type": "code",
   "execution_count": 108,
   "metadata": {},
   "outputs": [],
   "source": [
    "Markets = String[\"USD\", \"CNY\", \"EUR\", \"JPY\", \"GBP\", \"KRW\",\n",
    "    \"INR\", \"CAD\", \"HKD\", \"AUD\", \"BRL\", \"CHF\", \"RUB\", \"MXN\",\n",
    "    \"SGD\", \"IDR\", \"AED\", \"MYR\", \"PLN\", \"TRY\", \"NZD\", \"ZAR\",\n",
    "    \"KZT\", \"CZK\", \"COP\", \"ARS\", \"RON\", \"NGN\", \"PEN\", \"BHD\",\n",
    "    \"BOB\", \"LKR\",  \"AOA\", \"UAH\", \"ISK\"];"
   ]
  },
  {
   "cell_type": "markdown",
   "metadata": {},
   "source": [
    "*2022 Data*"
   ]
  },
  {
   "cell_type": "code",
   "execution_count": 119,
   "metadata": {},
   "outputs": [
    {
     "name": "stderr",
     "output_type": "stream",
     "text": [
      "\u001b[32mProgress: 100%|█████████████████████████████████████████| Time: 0:00:02\u001b[39m\n"
     ]
    }
   ],
   "source": [
    "Parameters = Dict(:api_key => ENV[\"CoinAPI_Key1\"], :Period => \"1DAY\", :SaveDir => DataDir*\"Raw-Data/CoinAPI/2022-Data-Daily/FIAT-Data/\",\n",
    "    :Limit => 250, :StartDate => DateTime(2022, 01, 01), :EndDate => DateTime(2022, 08, 20))\n",
    "p = Progress(length(Markets))\n",
    "failsBTC2022 = String[]\n",
    "for Market ∈ Markets\n",
    "    next!(p)\n",
    "    if !isfile(DataDir*\"Raw-Data/CoinAPI/2022-Data-Daily/FIAT-Data/BTC-$Market.csv\")\n",
    "        check = DataHandler.GetCoinAPIData(\"BTC\", Market; Parameters...)\n",
    "        if !check\n",
    "            push!(failsBTC2022, Market)\n",
    "        end\n",
    "    end\n",
    "    sleep(0.05)\n",
    "end"
   ]
  },
  {
   "cell_type": "code",
   "execution_count": 121,
   "metadata": {},
   "outputs": [
    {
     "name": "stderr",
     "output_type": "stream",
     "text": [
      "\u001b[32mProgress: 100%|█████████████████████████████████████████| Time: 0:00:02\u001b[39m\n"
     ]
    }
   ],
   "source": [
    "Parameters = Dict(:api_key => ENV[\"CoinAPI_Key2\"], :Period => \"1DAY\", :SaveDir => DataDir*\"Raw-Data/CoinAPI/2022-Data-Daily/FIAT-Data/\",\n",
    "    :Limit => 250, :StartDate => DateTime(2022, 01, 01), :EndDate => DateTime(2022, 08, 20))\n",
    "p = Progress(length(Markets))\n",
    "failsETH2022 = String[]\n",
    "for Market ∈ Markets\n",
    "    next!(p)\n",
    "    if !isfile(DataDir*\"Raw-Data/CoinAPI/2022-Data-Daily/FIAT-Data/ETH-$Market.csv\")\n",
    "        check = DataHandler.GetCoinAPIData(\"ETH\", Market; Parameters...)\n",
    "        if !check\n",
    "            push!(failsETH2022, Market)\n",
    "        end\n",
    "    end\n",
    "    sleep(0.05)\n",
    "end"
   ]
  },
  {
   "cell_type": "markdown",
   "metadata": {},
   "source": [
    "*2021 Data*"
   ]
  },
  {
   "cell_type": "code",
   "execution_count": 126,
   "metadata": {},
   "outputs": [
    {
     "name": "stderr",
     "output_type": "stream",
     "text": [
      "\u001b[32mProgress: 100%|█████████████████████████████████████████| Time: 0:01:18\u001b[39m\n"
     ]
    }
   ],
   "source": [
    "Parameters = Dict(:api_key => ENV[\"CoinAPI_Key3\"], :Period => \"1DAY\", :SaveDir => DataDir*\"Raw-Data/CoinAPI/2021-Data-Daily/FIAT-Data/\",\n",
    "    :Limit => 400, :StartDate => DateTime(2021, 01, 01), :EndDate => DateTime(2022, 01, 1))\n",
    "p = Progress(length(Markets))\n",
    "failsBTC2021 = String[]\n",
    "for Market ∈ Markets\n",
    "    next!(p)\n",
    "    if !isfile(DataDir*\"Raw-Data/CoinAPI/2021-Data-Daily/FIAT-Data/BTC-$Market.csv\")\n",
    "        check = DataHandler.GetCoinAPIData(\"BTC\", Market; Parameters...)\n",
    "        if !check\n",
    "            push!(failsBTC2021, Market)\n",
    "        end\n",
    "    end\n",
    "    sleep(0.05)\n",
    "end"
   ]
  },
  {
   "cell_type": "code",
   "execution_count": 130,
   "metadata": {},
   "outputs": [
    {
     "name": "stderr",
     "output_type": "stream",
     "text": [
      "\u001b[32mProgress: 100%|█████████████████████████████████████████| Time: 0:01:05\u001b[39m\n"
     ]
    }
   ],
   "source": [
    "Parameters = Dict(:api_key => ENV[\"CoinAPI_Key4\"], :Period => \"1DAY\", :SaveDir => DataDir*\"Raw-Data/CoinAPI/2021-Data-Daily/FIAT-Data/\",\n",
    "    :Limit => 400, :StartDate => DateTime(2021, 01, 01), :EndDate => DateTime(2022, 01, 1))\n",
    "p = Progress(length(Markets))\n",
    "failsETH2021 = String[]\n",
    "for Market ∈ Markets\n",
    "    next!(p)\n",
    "    if !isfile(DataDir*\"Raw-Data/CoinAPI/2021-Data-Daily/FIAT-Data/ETH-$Market.csv\")\n",
    "        check = DataHandler.GetCoinAPIData(\"ETH\", Market; Parameters...)\n",
    "        if !check\n",
    "            push!(failsETH2021, Market)\n",
    "        end\n",
    "    end\n",
    "    sleep(0.05)\n",
    "end"
   ]
  },
  {
   "cell_type": "markdown",
   "metadata": {},
   "source": [
    "*2020 Data*"
   ]
  },
  {
   "cell_type": "code",
   "execution_count": 135,
   "metadata": {},
   "outputs": [
    {
     "name": "stderr",
     "output_type": "stream",
     "text": [
      "\u001b[32mProgress: 100%|█████████████████████████████████████████| Time: 0:00:02\u001b[39m\n"
     ]
    }
   ],
   "source": [
    "Parameters = Dict(:api_key => ENV[\"CoinAPI_Key5\"], :Period => \"1DAY\", :SaveDir => DataDir*\"Raw-Data/CoinAPI/2020-Data-Daily/FIAT-Data/\",\n",
    "    :Limit => 400, :StartDate => DateTime(2020, 01, 01), :EndDate => DateTime(2021, 01, 1))\n",
    "p = Progress(length(Markets))\n",
    "failsBTC2020 = String[]\n",
    "for Market ∈ Markets\n",
    "    next!(p)\n",
    "    if !isfile(DataDir*\"Raw-Data/CoinAPI/2020-Data-Daily/FIAT-Data/BTC-$Market.csv\")\n",
    "        check = DataHandler.GetCoinAPIData(\"BTC\", Market; Parameters...)\n",
    "        if !check\n",
    "            push!(failsBTC2020, Market)\n",
    "        end\n",
    "    end\n",
    "    sleep(0.05)\n",
    "end"
   ]
  },
  {
   "cell_type": "code",
   "execution_count": 140,
   "metadata": {},
   "outputs": [
    {
     "name": "stderr",
     "output_type": "stream",
     "text": [
      "\u001b[32mProgress: 100%|█████████████████████████████████████████| Time: 0:00:44\u001b[39m\n"
     ]
    }
   ],
   "source": [
    "Parameters = Dict(:api_key => ENV[\"CoinAPI_Key6\"], :Period => \"1DAY\", :SaveDir => DataDir*\"Raw-Data/CoinAPI/2020-Data-Daily/FIAT-Data/\",\n",
    "    :Limit => 400, :StartDate => DateTime(2020, 01, 01), :EndDate => DateTime(2021, 01, 1))\n",
    "p = Progress(length(Markets))\n",
    "failsETH2020 = String[]\n",
    "for Market ∈ Markets\n",
    "    next!(p)\n",
    "    if !isfile(DataDir*\"Raw-Data/CoinAPI/2020-Data-Daily/FIAT-Data/ETH-$Market.csv\")\n",
    "        check = DataHandler.GetCoinAPIData(\"ETH\", Market; Parameters...)\n",
    "        if !check\n",
    "            push!(failsETH2020, Market)\n",
    "        end\n",
    "    end\n",
    "    sleep(0.05)\n",
    "end"
   ]
  },
  {
   "cell_type": "markdown",
   "metadata": {},
   "source": [
    "##### ***YahooFinance Data***\n"
   ]
  },
  {
   "cell_type": "code",
   "execution_count": null,
   "metadata": {},
   "outputs": [],
   "source": [
    "YahooBTCFIATData1DAY = Vector[] #Returns, CumRet, NormPrices, Times\n",
    "YahooMarkets = String[]\n",
    "for Market ∈ Markets\n",
    "    Dir = DataDir * \"Raw-Data/Yahoo-Finance-Full-Data/BTC-$Market.csv\"\n",
    "    if isfile(Dir)\n",
    "        push!(YahooBTCFIATData1DAY, DataHandler.LoadYahooData(Dir))\n",
    "        push!(YahooMarkets, Market)\n",
    "    end\n",
    "end"
   ]
  },
  {
   "cell_type": "markdown",
   "metadata": {},
   "source": [
    "##### ***CoinGecko Data***"
   ]
  },
  {
   "cell_type": "code",
   "execution_count": 92,
   "metadata": {},
   "outputs": [],
   "source": [
    "BTCHistoricalData = Dict[]\n",
    "ETHHistoricalData = Dict[]\n",
    "TotalDates = collect(Date(\"2022-01-01\"):Day(1):Date(now()))\n",
    "p = Progress(length(TotalDates))\n",
    "for date ∈ TotalDates\n",
    "    next!(p)\n",
    "    push!(BTCHistoricalData, DataHandler.GetCoinGeckoHistoryData(\"bitcoin\", date))\n",
    "    sleep(5)\n",
    "    push!(ETHHistoricalData, DataHandler.GetCoinGeckoHistoryData(\"ethereum\", date))\n",
    "    sleep(5)\n",
    "end\n",
    "SaveDir = DataDir * \"Raw-Data/CoinGecko/2022-Data-Daily/History-Data/\"\n",
    "save(SaveDir * \"BTCHistoricalData.jld\", \"Data\", BTCHistoricalData, \"Date\", TotalDates)\n",
    "save(SaveDir * \"ETHHistoricalData.jld\", \"Data\", ETHHistoricalData, \"Date\", TotalDates)"
   ]
  },
  {
   "cell_type": "code",
   "execution_count": 94,
   "metadata": {},
   "outputs": [
    {
     "name": "stderr",
     "output_type": "stream",
     "text": [
      "\u001b[32mProgress: 100%|█████████████████████████████████████████| Time: 0:05:53\u001b[39m\n"
     ]
    }
   ],
   "source": [
    "ETHMarketsData = Dict()\n",
    "BTCMarketsData = Dict()\n",
    "Markets = String[\"USD\", \"CNY\", \"EUR\", \"JPY\", \"GBP\",\n",
    "    \"KRW\", \"INR\", \"CAD\", \"HKD\", \"AUD\", \"BRL\", \"CHF\",\n",
    "    \"RUB\", \"MXN\", \"SGD\", \"IDR\", \"AED\", \"MYR\", \"PLN\",\n",
    "    \"TRY\", \"NZD\", \"ZAR\", \"CZK\", \"ARS\", \"DKK\", \"NOK\",\n",
    "    \"SEK\", \"NGN\", \"BHD\", \"LKR\", \"UAH\"]\n",
    "p = Progress(length(Markets))\n",
    "for Market ∈ Markets\n",
    "    next!(p)\n",
    "    ETHMarketsData[Market] = DataHandler.GetCoinGeckoData(\"ethereum\", Market)\n",
    "    sleep(5)\n",
    "    BTCMarketsData[Market] = DataHandler.GetCoinGeckoData(\"bitcoin\", Market)\n",
    "    sleep(5)\n",
    "end\n",
    "\n",
    "SaveDir = DataDir * \"Raw-Data/CoinGecko/Max-Data-Daily/Chart-Data/\"\n",
    "save(SaveDir * \"BTCMarketsData.jld\", BTCMarketsData)\n",
    "save(SaveDir * \"ETHMarketsData.jld\", ETHMarketsData)"
   ]
  },
  {
   "cell_type": "code",
   "execution_count": 313,
   "metadata": {},
   "outputs": [],
   "source": [
    "LoadDir = DataDir * \"Raw-Data/CoinGecko/Max-Data-Daily/Chart-Data/\";\n",
    "ETHData = DataHandler.LoadCoinGeckoDataFrame(LoadDir * \"ETHMarketsData.jld\")\n",
    "BTCData = DataHandler.LoadCoinGeckoDataFrame(LoadDir * \"BTCMarketsData.jld\")\n",
    "save(LoadDir * \"ETH-FIAT-DataFrames.jld\", ETHData)\n",
    "save(LoadDir * \"BTC-FIAT-DataFrames.jld\", BTCData)"
   ]
  },
  {
   "cell_type": "code",
   "execution_count": 314,
   "metadata": {},
   "outputs": [
    {
     "name": "stderr",
     "output_type": "stream",
     "text": [
      "\u001b[32mProgress: 100%|█████████████████████████████████████████| Time: 0:55:22\u001b[39m\n"
     ]
    }
   ],
   "source": [
    "FIATCryptoData = Dict()\n",
    "Markets = String[\"USD\", \"CNY\", \"EUR\", \"JPY\", \"GBP\",\n",
    "    \"KRW\", \"INR\", \"CAD\", \"HKD\", \"AUD\", \"BRL\", \"CHF\",\n",
    "    \"RUB\", \"MXN\", \"SGD\", \"IDR\", \"AED\", \"MYR\", \"PLN\",\n",
    "    \"TRY\", \"NZD\", \"ZAR\", \"CZK\", \"ARS\", \"DKK\", \"NOK\",\n",
    "    \"SEK\", \"NGN\", \"BHD\", \"LKR\", \"UAH\"]\n",
    "IDs = String[\"cardano\", \"bitcoin-cash\", \"binancecoin\", \"bitcoin\",\n",
    "    \"dash\", \"dogecoin\", \"eos\", \"ethereum-classic\",\n",
    "    \"ethereum\", \"lisk\", \"litecoin\", \"neo\", \"omisego\",\n",
    "    \"tron\", \"nem\", \"stellar\", \"monero\", \"ripple\"]\n",
    "Symbols = String[\"ADA\", \"BCH\", \"BNB\", \"BTC\", \"DASH\", \"DOGE\", \"EOS\",\n",
    "    \"ETC\", \"ETH\", \"LSK\", \"LTC\", \"NEO\", \"OMG\",\n",
    "    \"TRX\", \"XEM\", \"XLM\", \"XMR\", \"XRP\"]\n",
    "IDToSymbol = Dict([IDs[i] => Symbols[i] for i ∈ 1:length(IDs)])\n",
    "p = Progress(length(Markets) * length(IDs))\n",
    "for Market ∈ Markets\n",
    "    for ID ∈ IDs\n",
    "        next!(p)\n",
    "        FIATCryptoData[\"$(IDToSymbol[ID])-$Market\"] = DataHandler.GetCoinGeckoData(ID, Market)\n",
    "        sleep(5)\n",
    "    end\n",
    "end\n",
    "\n",
    "SaveDir = DataDir * \"Raw-Data/CoinGecko/Max-Data-Daily/Chart-Data/\"\n",
    "save(SaveDir * \"FIAT-Crypto-FullData.jld\", FIATCryptoData)"
   ]
  },
  {
   "cell_type": "code",
   "execution_count": null,
   "metadata": {},
   "outputs": [],
   "source": [
    "LoadDir = DataDir * \"Raw-Data/CoinGecko/Max-Data-Daily/Chart-Data/\"\n",
    "FIATCryptoData = DataHandler.LoadCoinGeckoDataFrame(LoadDir * \"FIAT-Crypto-FullData.jld\")\n",
    "save(LoadDir * \"FIAT-Crypto-DataFrames.jld\", FIATCryptoData)"
   ]
  },
  {
   "cell_type": "code",
   "execution_count": null,
   "metadata": {},
   "outputs": [],
   "source": [
    "IDs = String[\"cardano\", \"bitcoin-cash\", \"binancecoin\", \"bitcoin\",\n",
    "    \"dash\", \"dogecoin\", \"eos\", \"ethereum-classic\",\n",
    "    \"ethereum\", \"lisk\", \"litecoin\", \"neo\", \"omisego\",\n",
    "    \"tron\", \"nem\", \"stellar\", \"monero\", \"ripple\"]\n",
    "Symbols = String[\"ADA\", \"BCH\", \"BNB\", \"BTC\", \"DASH\", \"DOGE\", \"EOS\",\n",
    "    \"ETC\", \"ETH\", \"LSK\", \"LTC\", \"NEO\", \"OMG\",\n",
    "    \"TRX\", \"XEM\", \"XLM\", \"XMR\", \"XRP\"]\n",
    "IDToSymbol = Dict([IDs[i] => Symbols[i] for i ∈ 1:length(IDs)])\n",
    "\n",
    "HistoricalData = Dict()\n",
    "SaveDir = DataDir * \"Raw-Data/CoinGecko/Max-Data-Daily/History-Data/\"\n",
    "TotalDates = collect(Date(\"2020-01-01\"):Day(1):Date(now()))\n",
    "for ID ∈ IDs\n",
    "    IJulia.clear_output()\n",
    "    Sym = IDToSymbol[ID]\n",
    "    Data = Dict[]\n",
    "    p = Progress(length(TotalDates), \"Downloading data for $Sym\")\n",
    "    if !isfile(SaveDir * \"$Sym-History.jl\")\n",
    "        for date ∈ TotalDates\n",
    "            next!(p)\n",
    "            update!(p)\n",
    "            ReqRes = DataHandler.GetCoinGeckoHistoryData(ID, date)\n",
    "            if ReqRes == 429\n",
    "                sleep(60)\n",
    "            elseif typeof(ReqRes) == Int16\n",
    "                error(\"$ReqRes Error\")\n",
    "            else\n",
    "                push!(Data, ReqRes)\n",
    "            end\n",
    "            sleep(5)\n",
    "        end\n",
    "    end\n",
    "    SaveDir = DataDir * \"Raw-Data/CoinGecko/Max-Data-Daily/History-Data/\"\n",
    "    save(SaveDir * \"$Sym.jld\", \"Data\", Data, \"Date\", TotalDates)\n",
    "end"
   ]
  },
  {
   "cell_type": "markdown",
   "metadata": {},
   "source": [
    "##### ***Alphavantage Data***"
   ]
  },
  {
   "cell_type": "code",
   "execution_count": null,
   "metadata": {},
   "outputs": [],
   "source": [
    "Parameters = Dict(:api_key => (ENV[\"AlphaVantage_Key4\"]),\n",
    "    :Interval => \"DAILY\", :SaveDir => DataDir * \"Raw-Data/AlphaVantage/Daily-Data/\")\n",
    "Markets = String[\"USD\", \"CNY\", \"EUR\", \"JPY\", \"GBP\",\n",
    "    \"KRW\", \"INR\", \"CAD\", \"HKD\", \"AUD\", \"BRL\", \"CHF\",\n",
    "    \"RUB\", \"MXN\", \"SGD\", \"IDR\", \"AED\", \"MYR\", \"PLN\",\n",
    "    \"TRY\", \"NZD\", \"ZAR\", \"CZK\", \"ARS\", \"DKK\", \"NOK\",\n",
    "    \"SEK\", \"NGN\", \"BHD\", \"LKR\", \"UAH\"]\n",
    "Symbols = String[\"ADA\", \"BCH\", \"BNB\", \"BTC\", \"DASH\", \"DOGE\", \"EOS\",\n",
    "    \"ETC\", \"ETH\", \"LSK\", \"LTC\", \"NEO\", \"OMG\",\n",
    "    \"TRX\", \"XEM\", \"XLM\", \"XMR\", \"XRP\"]\n",
    "FailRequests = Tuple[]\n",
    "p = Progress(length(Markets) * length(Symbols))\n",
    "for Market ∈ Markets\n",
    "    for Sym ∈ Symbols\n",
    "        update!(p)\n",
    "        next!(p)\n",
    "        filedir = Parameters[:SaveDir] * \"$Sym-$Market.csv\"\n",
    "        if !isfile(filedir)\n",
    "            status = DataHandler.GetAVCryptoData(Sym, Market; Parameters...)\n",
    "            if stat(filedir).size < 5000\n",
    "                rm(filedir)\n",
    "                sleep(65)\n",
    "                status = DataHandler.GetAVCryptoData(Sym, Market; Parameters...)\n",
    "                if stat(filedir).size < 5000\n",
    "                    rm(filedir)\n",
    "                    sleep(65)\n",
    "                    status = DataHandler.GetAVCryptoData(Sym, Market; Parameters...)\n",
    "                end\n",
    "            end\n",
    "            if status != 200\n",
    "                push!(FailRequests, (Sym, Market))\n",
    "            elseif stat(filedir).size < 5000\n",
    "                rm(filedir)\n",
    "                error(\"$Sym-$Market failed\")\n",
    "            end\n",
    "            sleep(20)\n",
    "        end\n",
    "        sleep(0.05)\n",
    "    end\n",
    "end"
   ]
  },
  {
   "cell_type": "code",
   "execution_count": null,
   "metadata": {},
   "outputs": [],
   "source": [
    "Parameters = Dict(:api_key => (ENV[\"AlphaVantage_Key4\"]),\n",
    "    :Interval => \"WEEKLY\", :SaveDir => DataDir * \"Raw-Data/AlphaVantage/Weekly-Data/\")\n",
    "Markets = String[\"USD\", \"CNY\", \"EUR\", \"JPY\", \"GBP\",\n",
    "    \"KRW\", \"INR\", \"CAD\", \"HKD\", \"AUD\", \"BRL\", \"CHF\",\n",
    "    \"RUB\", \"MXN\", \"SGD\", \"IDR\", \"AED\", \"MYR\", \"PLN\",\n",
    "    \"TRY\", \"NZD\", \"ZAR\", \"CZK\", \"ARS\", \"DKK\", \"NOK\",\n",
    "    \"SEK\", \"NGN\", \"BHD\", \"LKR\", \"UAH\"]\n",
    "Symbols = String[\"ADA\", \"BCH\", \"BNB\", \"BTC\", \"DASH\", \"DOGE\", \"EOS\",\n",
    "    \"ETC\", \"ETH\", \"LSK\", \"LTC\", \"NEO\", \"OMG\",\n",
    "    \"TRX\", \"XEM\", \"XLM\", \"XMR\", \"XRP\"]\n",
    "FailRequests = Tuple[]\n",
    "p = Progress(length(Markets) * length(Symbols))\n",
    "for Market ∈ Markets\n",
    "    for Sym ∈ Symbols\n",
    "        update!(p)\n",
    "        next!(p)\n",
    "        filedir = Parameters[:SaveDir] * \"$Sym-$Market.csv\"\n",
    "        if !isfile(filedir)\n",
    "            status = DataHandler.GetAVCryptoData(Sym, Market; Parameters...)\n",
    "            if stat(filedir).size < 5000\n",
    "                rm(filedir)\n",
    "                sleep(65)\n",
    "                status = DataHandler.GetAVCryptoData(Sym, Market; Parameters...)\n",
    "                if stat(filedir).size < 5000\n",
    "                    rm(filedir)\n",
    "                    sleep(65)\n",
    "                    status = DataHandler.GetAVCryptoData(Sym, Market; Parameters...)\n",
    "                end\n",
    "            end\n",
    "            if status != 200\n",
    "                push!(FailRequests, (Sym, Market))\n",
    "            elseif stat(filedir).size < 5000\n",
    "                rm(filedir)\n",
    "                error(\"$Sym-$Market failed\")\n",
    "            end\n",
    "            sleep(20)\n",
    "        end\n",
    "        sleep(0.05)\n",
    "    end\n",
    "end"
   ]
  },
  {
   "cell_type": "code",
   "execution_count": null,
   "metadata": {},
   "outputs": [],
   "source": [
    "Parameters = Dict(:api_key => (ENV[\"AlphaVantage_Key1\"]),\n",
    "    :Interval => \"1min\", :SaveDir => DataDir * \"Raw-Data/AlphaVantage/1min-Data/\")\n",
    "Markets = String[\"USD\", \"CNY\", \"EUR\", \"JPY\", \"GBP\",\n",
    "    \"KRW\", \"INR\", \"CAD\", \"HKD\", \"AUD\", \"BRL\", \"CHF\",\n",
    "    \"RUB\", \"MXN\", \"SGD\", \"IDR\", \"AED\", \"MYR\", \"PLN\",\n",
    "    \"TRY\", \"NZD\", \"ZAR\", \"CZK\", \"ARS\", \"DKK\", \"NOK\",\n",
    "    \"SEK\", \"NGN\", \"BHD\", \"LKR\", \"UAH\"]\n",
    "Symbols = String[\"ADA\", \"BCH\", \"BNB\", \"BTC\", \"DASH\", \"DOGE\", \"EOS\",\n",
    "    \"ETC\", \"ETH\", \"LSK\", \"LTC\", \"NEO\", \"OMG\",\n",
    "    \"TRX\", \"XEM\", \"XLM\", \"XMR\", \"XRP\"]\n",
    "FailRequests = Tuple[]\n",
    "p = Progress(length(Markets) * length(Symbols))\n",
    "for Market ∈ Markets\n",
    "    for Sym ∈ Symbols\n",
    "        update!(p)\n",
    "        next!(p)\n",
    "        filedir = Parameters[:SaveDir] * \"$Sym-$Market.csv\"\n",
    "        if !isfile(filedir)\n",
    "            status = DataHandler.GetAVCryptoINTRADAYData(Sym, Market; Parameters...)\n",
    "            if stat(filedir).size < 10000\n",
    "                rm(filedir)\n",
    "                sleep(65)\n",
    "                status = DataHandler.GetAVCryptoINTRADAYData(Sym, Market; Parameters...)\n",
    "                if stat(filedir).size < 10000\n",
    "                    rm(filedir)\n",
    "                    sleep(65)\n",
    "                    status = DataHandler.GetAVCryptoINTRADAYData(Sym, Market; Parameters...)\n",
    "                end\n",
    "            end\n",
    "            if status != 200\n",
    "                push!(FailRequests, (Sym, Market, status))\n",
    "            elseif stat(filedir).size < 10000\n",
    "                rm(filedir)\n",
    "                error(\"$Sym-$Market failed\")\n",
    "            end\n",
    "            sleep(20)\n",
    "        end\n",
    "        sleep(0.05)\n",
    "    end\n",
    "end"
   ]
  },
  {
   "cell_type": "code",
   "execution_count": 17,
   "metadata": {},
   "outputs": [
    {
     "name": "stderr",
     "output_type": "stream",
     "text": [
      "\u001b[32mProgress: 100%|█████████████████████████████████████████| Time: 6:16:12\u001b[39m\n"
     ]
    }
   ],
   "source": [
    "Parameters = Dict(:api_key => (ENV[\"AlphaVantage_Key1\"]),\n",
    "    :Interval => \"5min\", :SaveDir => DataDir * \"Raw-Data/AlphaVantage/5min-Data/\")\n",
    "Markets = String[\"USD\", \"CNY\", \"EUR\", \"JPY\", \"GBP\",\n",
    "    \"KRW\", \"INR\", \"CAD\", \"HKD\", \"AUD\", \"BRL\", \"CHF\",\n",
    "    \"RUB\", \"MXN\", \"SGD\", \"IDR\", \"AED\", \"MYR\", \"PLN\",\n",
    "    \"TRY\", \"NZD\", \"ZAR\", \"CZK\", \"ARS\", \"DKK\", \"NOK\",\n",
    "    \"SEK\", \"NGN\", \"BHD\", \"LKR\", \"UAH\"]\n",
    "Symbols = String[\"ADA\", \"BCH\", \"BNB\", \"BTC\", \"DASH\", \"DOGE\", \"EOS\",\n",
    "    \"ETC\", \"ETH\", \"LSK\", \"LTC\", \"NEO\", \"OMG\",\n",
    "    \"TRX\", \"XEM\", \"XLM\", \"XMR\", \"XRP\"]\n",
    "FailRequests = Tuple[]\n",
    "p = Progress(length(Markets) * length(Symbols))\n",
    "for Market ∈ Markets\n",
    "    for Sym ∈ Symbols\n",
    "        update!(p)\n",
    "        next!(p)\n",
    "        filedir = Parameters[:SaveDir] * \"$Sym-$Market.csv\"\n",
    "        if !isfile(filedir)\n",
    "            status = DataHandler.GetAVCryptoINTRADAYData(Sym, Market; Parameters...)\n",
    "            if stat(filedir).size < 10000\n",
    "                rm(filedir)\n",
    "                sleep(65)\n",
    "                status = DataHandler.GetAVCryptoINTRADAYData(Sym, Market; Parameters...)\n",
    "                if stat(filedir).size < 10000\n",
    "                    rm(filedir)\n",
    "                    sleep(65)\n",
    "                    status = DataHandler.GetAVCryptoINTRADAYData(Sym, Market; Parameters...)\n",
    "                end\n",
    "            end\n",
    "            if status != 200\n",
    "                push!(FailRequests, (Sym, Market, status))\n",
    "            elseif stat(filedir).size < 10000\n",
    "                rm(filedir)\n",
    "                error(\"$Sym-$Market failed\")\n",
    "            end\n",
    "            sleep(20)\n",
    "        end\n",
    "        sleep(0.05)\n",
    "    end\n",
    "end"
   ]
  },
  {
   "cell_type": "code",
   "execution_count": null,
   "metadata": {},
   "outputs": [],
   "source": [
    "Parameters = Dict(:api_key => (ENV[\"AlphaVantage_Key1\"]),\n",
    "    :Interval => \"15min\", :SaveDir => DataDir * \"Raw-Data/AlphaVantage/15min-Data/\")\n",
    "Markets = String[\"USD\", \"CNY\", \"EUR\", \"JPY\", \"GBP\",\n",
    "    \"KRW\", \"INR\", \"CAD\", \"HKD\", \"AUD\", \"BRL\", \"CHF\",\n",
    "    \"RUB\", \"MXN\", \"SGD\", \"IDR\", \"AED\", \"MYR\", \"PLN\",\n",
    "    \"TRY\", \"NZD\", \"ZAR\", \"CZK\", \"ARS\", \"DKK\", \"NOK\",\n",
    "    \"SEK\", \"NGN\", \"BHD\", \"LKR\", \"UAH\"]\n",
    "Symbols = String[\"ADA\", \"BCH\", \"BNB\", \"BTC\", \"DASH\", \"DOGE\", \"EOS\",\n",
    "    \"ETC\", \"ETH\", \"LSK\", \"LTC\", \"NEO\", \"OMG\",\n",
    "    \"TRX\", \"XEM\", \"XLM\", \"XMR\", \"XRP\"]\n",
    "FailRequests = Tuple[]\n",
    "p = Progress(length(Markets) * length(Symbols))\n",
    "for Market ∈ Markets\n",
    "    for Sym ∈ Symbols\n",
    "        update!(p)\n",
    "        next!(p)\n",
    "        filedir = Parameters[:SaveDir] * \"$Sym-$Market.csv\"\n",
    "        if !isfile(filedir)\n",
    "            status = DataHandler.GetAVCryptoINTRADAYData(Sym, Market; Parameters...)\n",
    "            if stat(filedir).size < 10000\n",
    "                rm(filedir)\n",
    "                sleep(65)\n",
    "                status = DataHandler.GetAVCryptoINTRADAYData(Sym, Market; Parameters...)\n",
    "                if stat(filedir).size < 10000\n",
    "                    rm(filedir)\n",
    "                    sleep(65)\n",
    "                    status = DataHandler.GetAVCryptoINTRADAYData(Sym, Market; Parameters...)\n",
    "                end\n",
    "            end\n",
    "            if status != 200\n",
    "                push!(FailRequests, (Sym, Market, status))\n",
    "            elseif stat(filedir).size < 10000\n",
    "                rm(filedir)\n",
    "                error(\"$Sym-$Market failed\")\n",
    "            end\n",
    "            sleep(20)\n",
    "        end\n",
    "        sleep(0.05)\n",
    "    end\n",
    "end"
   ]
  },
  {
   "cell_type": "code",
   "execution_count": null,
   "metadata": {},
   "outputs": [],
   "source": [
    "Parameters = Dict(:api_key => (ENV[\"AlphaVantage_Key1\"]),\n",
    "    :Interval => \"30min\", :SaveDir => DataDir * \"Raw-Data/AlphaVantage/30min-Data/\")\n",
    "Markets = String[\"USD\", \"CNY\", \"EUR\", \"JPY\", \"GBP\",\n",
    "    \"KRW\", \"INR\", \"CAD\", \"HKD\", \"AUD\", \"BRL\", \"CHF\",\n",
    "    \"RUB\", \"MXN\", \"SGD\", \"IDR\", \"AED\", \"MYR\", \"PLN\",\n",
    "    \"TRY\", \"NZD\", \"ZAR\", \"CZK\", \"ARS\", \"DKK\", \"NOK\",\n",
    "    \"SEK\", \"NGN\", \"BHD\", \"LKR\", \"UAH\"]\n",
    "Symbols = String[\"ADA\", \"BCH\", \"BNB\", \"BTC\", \"DASH\", \"DOGE\", \"EOS\",\n",
    "    \"ETC\", \"ETH\", \"LSK\", \"LTC\", \"NEO\", \"OMG\",\n",
    "    \"TRX\", \"XEM\", \"XLM\", \"XMR\", \"XRP\"]\n",
    "FailRequests = Tuple[]\n",
    "p = Progress(length(Markets) * length(Symbols))\n",
    "for Market ∈ Markets\n",
    "    for Sym ∈ Symbols\n",
    "        update!(p)\n",
    "        next!(p)\n",
    "        filedir = Parameters[:SaveDir] * \"$Sym-$Market.csv\"\n",
    "        if !isfile(filedir)\n",
    "            status = DataHandler.GetAVCryptoINTRADAYData(Sym, Market; Parameters...)\n",
    "            if stat(filedir).size < 10000\n",
    "                rm(filedir)\n",
    "                sleep(65)\n",
    "                status = DataHandler.GetAVCryptoINTRADAYData(Sym, Market; Parameters...)\n",
    "                if stat(filedir).size < 10000\n",
    "                    rm(filedir)\n",
    "                    sleep(65)\n",
    "                    status = DataHandler.GetAVCryptoINTRADAYData(Sym, Market; Parameters...)\n",
    "                end\n",
    "            end\n",
    "            if status != 200\n",
    "                push!(FailRequests, (Sym, Market, status))\n",
    "            elseif stat(filedir).size < 10000\n",
    "                rm(filedir)\n",
    "                error(\"$Sym-$Market failed\")\n",
    "            end\n",
    "            sleep(20)\n",
    "        end\n",
    "        sleep(0.05)\n",
    "    end\n",
    "end"
   ]
  },
  {
   "cell_type": "markdown",
   "metadata": {},
   "source": [
    "#### ***Get forex Data***"
   ]
  },
  {
   "cell_type": "markdown",
   "metadata": {},
   "source": [
    "##### ***ExchangeRate Data***"
   ]
  },
  {
   "cell_type": "code",
   "execution_count": 39,
   "metadata": {},
   "outputs": [
    {
     "name": "stderr",
     "output_type": "stream",
     "text": [
      "\u001b[32mProgress: 100%|█████████████████████████████████████████| Time: 0:05:03\u001b[39m\u001b[39m\n",
      "\u001b[32mProgress: 100%|█████████████████████████████████████████| Time: 0:05:03\u001b[39m\n"
     ]
    }
   ],
   "source": [
    "Markets = String[\"USD\", \"CNY\", \"EUR\", \"JPY\", \"GBP\",\n",
    "    \"KRW\", \"INR\", \"CAD\", \"HKD\", \"AUD\", \"BRL\", \"CHF\",\n",
    "    \"RUB\", \"MXN\", \"SGD\", \"IDR\", \"AED\", \"MYR\", \"PLN\",\n",
    "    \"TRY\", \"NZD\", \"ZAR\", \"CZK\", \"ARS\", \"DKK\", \"NOK\",\n",
    "    \"SEK\", \"NGN\", \"BHD\", \"LKR\", \"UAH\"]\n",
    "SaveDir = DataDir * \"Raw-Data/ExchangeRate/Daily-Data/\"\n",
    "p = Progress(length(Markets))\n",
    "for Market ∈ Markets\n",
    "    next!(p)\n",
    "    update!(p)\n",
    "    save(SaveDir*\"$Market.jld\", DataHandler.GetExchangeRateData(Market, Date(2020, 01, 01), Date(now())))\n",
    "    sleep(5)\n",
    "end"
   ]
  },
  {
   "cell_type": "markdown",
   "metadata": {},
   "source": [
    "##### ***Alphavantage ForEx Data***"
   ]
  },
  {
   "cell_type": "code",
   "execution_count": 1,
   "metadata": {},
   "outputs": [],
   "source": [
    "using ProgressMeter, Dates, HTTP, JLD, JSON\n",
    "\n",
    "DataDir = \"../../Data/\";\n",
    "FigsDir = \"../../Figs/\";\n",
    "\n",
    "include(\"Modules.jl\");"
   ]
  },
  {
   "cell_type": "code",
   "execution_count": 2,
   "metadata": {},
   "outputs": [
    {
     "name": "stderr",
     "output_type": "stream",
     "text": [
      "\u001b[32mProgress: 100%|█████████████████████████████████████████| Time: 0:17:39\u001b[39mm\n",
      "\u001b[32mProgress: 100%|█████████████████████████████████████████| Time: 0:17:39\u001b[39m\n"
     ]
    }
   ],
   "source": [
    "Parameters = Dict(:api_key => (ENV[\"AlphaVantage_Key1\"]),\n",
    "    :Interval => \"DAILY\", :SaveDir => DataDir * \"Raw-Data/AlphaVantage/ForEx-Daily/\")\n",
    "Markets = String[\"USD\", \"CNY\", \"EUR\", \"JPY\", \"GBP\",\n",
    "    \"KRW\", \"INR\", \"CAD\", \"HKD\", \"AUD\", \"BRL\", \"CHF\",\n",
    "    \"RUB\", \"MXN\", \"SGD\", \"IDR\", \"AED\", \"MYR\", \"PLN\",\n",
    "    \"TRY\", \"NZD\", \"ZAR\", \"CZK\", \"ARS\", \"DKK\", \"NOK\",\n",
    "    \"SEK\", \"NGN\", \"BHD\", \"LKR\", \"UAH\"]\n",
    "FailRequests = Tuple[]\n",
    "p = Progress(length(Markets) ^ 2)\n",
    "for BaseMarket ∈ Markets\n",
    "    for ToMarket ∈ Markets\n",
    "        next!(p)\n",
    "        update!(p)\n",
    "        filedir = Parameters[:SaveDir] * \"$BaseMarket-$ToMarket.csv\"\n",
    "        if stat(filedir).size < 5000 && BaseMarket != ToMarket\n",
    "            status = DataHandler.GetAVForExData(BaseMarket, ToMarket; Parameters...)\n",
    "            if stat(filedir).size < 5000\n",
    "                rm(filedir)\n",
    "                sleep(65)\n",
    "                status = DataHandler.GetAVForExData(BaseMarket, ToMarket; Parameters...)\n",
    "                if stat(filedir).size < 5000\n",
    "                    rm(filedir)\n",
    "                    sleep(65)\n",
    "                    status = DataHandler.GetAVForExData(BaseMarket, ToMarket; Parameters...)\n",
    "                end\n",
    "            end\n",
    "            if status != 200\n",
    "                push!(FailRequests, (BaseMarket, ToMarket))\n",
    "            elseif stat(filedir).size < 5000\n",
    "                rm(filedir)\n",
    "                push!(FailRequests, (BaseMarket, ToMarket))\n",
    "            end\n",
    "            sleep(20)\n",
    "        end\n",
    "        sleep(0.05)\n",
    "    end\n",
    "end"
   ]
  },
  {
   "cell_type": "code",
   "execution_count": 3,
   "metadata": {},
   "outputs": [
    {
     "data": {
      "text/plain": [
       "6-element Vector{Tuple}:\n",
       " (\"INR\", \"DKK\")\n",
       " (\"MXN\", \"SEK\")\n",
       " (\"TRY\", \"AUD\")\n",
       " (\"ARS\", \"AUD\")\n",
       " (\"ARS\", \"CHF\")\n",
       " (\"NGN\", \"CHF\")"
      ]
     },
     "execution_count": 3,
     "metadata": {},
     "output_type": "execute_result"
    }
   ],
   "source": [
    "FailRequests"
   ]
  },
  {
   "cell_type": "code",
   "execution_count": 4,
   "metadata": {},
   "outputs": [
    {
     "name": "stderr",
     "output_type": "stream",
     "text": [
      "\u001b[32mProgress: 100%|█████████████████████████████████████████| Time: 0:44:45\u001b[39m\n",
      "\u001b[32mProgress: 100%|█████████████████████████████████████████| Time: 0:44:45\u001b[39m\n"
     ]
    }
   ],
   "source": [
    "Parameters = Dict(:api_key => (ENV[\"AlphaVantage_Key2\"]),\n",
    "    :Interval => \"WEEKLY\", :SaveDir => DataDir * \"Raw-Data/AlphaVantage/ForEx-Weekly/\")\n",
    "Markets = String[\"USD\", \"CNY\", \"EUR\", \"JPY\", \"GBP\",\n",
    "    \"KRW\", \"INR\", \"CAD\", \"HKD\", \"AUD\", \"BRL\", \"CHF\",\n",
    "    \"RUB\", \"MXN\", \"SGD\", \"IDR\", \"AED\", \"MYR\", \"PLN\",\n",
    "    \"TRY\", \"NZD\", \"ZAR\", \"CZK\", \"ARS\", \"DKK\", \"NOK\",\n",
    "    \"SEK\", \"NGN\", \"BHD\", \"LKR\", \"UAH\"]\n",
    "FailRequests = Tuple[]\n",
    "p = Progress(length(Markets) ^ 2)\n",
    "for BaseMarket ∈ Markets\n",
    "    for ToMarket ∈ Markets\n",
    "        next!(p)\n",
    "        update!(p)\n",
    "        filedir = Parameters[:SaveDir] * \"$BaseMarket-$ToMarket.csv\"\n",
    "        if stat(filedir).size < 5000 && BaseMarket != ToMarket\n",
    "            status = DataHandler.GetAVForExData(BaseMarket, ToMarket; Parameters...)\n",
    "            if stat(filedir).size < 5000\n",
    "                rm(filedir)\n",
    "                sleep(65)\n",
    "                status = DataHandler.GetAVForExData(BaseMarket, ToMarket; Parameters...)\n",
    "                if stat(filedir).size < 5000\n",
    "                    rm(filedir)\n",
    "                    sleep(65)\n",
    "                    status = DataHandler.GetAVForExData(BaseMarket, ToMarket; Parameters...)\n",
    "                end\n",
    "            end\n",
    "            if status != 200\n",
    "                push!(FailRequests, (BaseMarket, ToMarket))\n",
    "            elseif stat(filedir).size < 5000\n",
    "                rm(filedir)\n",
    "                push!(FailRequests, (BaseMarket, ToMarket))\n",
    "            end\n",
    "            sleep(20)\n",
    "        end\n",
    "        sleep(0.05)\n",
    "    end\n",
    "end"
   ]
  },
  {
   "cell_type": "code",
   "execution_count": 5,
   "metadata": {},
   "outputs": [
    {
     "data": {
      "text/plain": [
       "17-element Vector{Tuple}:\n",
       " (\"CNY\", \"SEK\")\n",
       " (\"INR\", \"DKK\")\n",
       " (\"BRL\", \"CAD\")\n",
       " (\"RUB\", \"CAD\")\n",
       " (\"SGD\", \"CAD\")\n",
       " (\"PLN\", \"CAD\")\n",
       " (\"PLN\", \"NOK\")\n",
       " (\"TRY\", \"CAD\")\n",
       " (\"CZK\", \"CAD\")\n",
       " (\"CZK\", \"NOK\")\n",
       " (\"ARS\", \"CAD\")\n",
       " (\"ARS\", \"AUD\")\n",
       " (\"ARS\", \"CHF\")\n",
       " (\"SEK\", \"MXN\")\n",
       " (\"NGN\", \"CHF\")\n",
       " (\"UAH\", \"NGN\")\n",
       " (\"UAH\", \"LKR\")"
      ]
     },
     "execution_count": 5,
     "metadata": {},
     "output_type": "execute_result"
    }
   ],
   "source": [
    "FailRequests"
   ]
  },
  {
   "cell_type": "code",
   "execution_count": 7,
   "metadata": {},
   "outputs": [
    {
     "name": "stderr",
     "output_type": "stream",
     "text": [
      "\u001b[32mProgress:  51%|██████████████████████                   |  ETA: 19:20:13\u001b[39m"
     ]
    }
   ],
   "source": [
    "Parameters = Dict(:api_key => (ENV[\"AlphaVantage_Key3\"]),\n",
    "    :Interval => \"1min\", :SaveDir => DataDir * \"Raw-Data/AlphaVantage/1min-ForEx/\")\n",
    "Markets = String[\"USD\", \"CNY\", \"EUR\", \"JPY\", \"GBP\",\n",
    "    \"KRW\", \"INR\", \"CAD\", \"HKD\", \"AUD\", \"BRL\", \"CHF\",\n",
    "    \"RUB\", \"MXN\", \"SGD\", \"IDR\", \"AED\", \"MYR\", \"PLN\",\n",
    "    \"TRY\", \"NZD\", \"ZAR\", \"CZK\", \"ARS\", \"DKK\", \"NOK\",\n",
    "    \"SEK\", \"NGN\", \"BHD\", \"LKR\", \"UAH\"]\n",
    "FailRequests = Tuple[]\n",
    "p = Progress(length(Markets)^2)\n",
    "for BaseMarket ∈ Markets\n",
    "    for ToMarket ∈ Markets\n",
    "        next!(p)\n",
    "        update!(p)\n",
    "        filedir = Parameters[:SaveDir] * \"$BaseMarket-$ToMarket.csv\"\n",
    "        if stat(filedir).size < 5000\n",
    "            status = DataHandler.GetAVForExINTRADAYData(BaseMarket, ToMarket; Parameters...)\n",
    "            if stat(filedir).size < 5000\n",
    "                rm(filedir)\n",
    "                sleep(65)\n",
    "                status = DataHandler.GetAVForExINTRADAYData(BaseMarket, ToMarket; Parameters...)\n",
    "                if stat(filedir).size < 5000\n",
    "                    rm(filedir)\n",
    "                    sleep(65)\n",
    "                    status = DataHandler.GetAVForExINTRADAYData(BaseMarket, ToMarket; Parameters...)\n",
    "                end\n",
    "            end\n",
    "            if status != 200\n",
    "                push!(FailRequests, (BaseMarket, ToMarket, status))\n",
    "            elseif stat(filedir).size < 5000\n",
    "                rm(filedir)\n",
    "                push!(FailRequests, (BaseMarket, ToMarket))\n",
    "            end\n",
    "            sleep(20)\n",
    "        end\n",
    "        sleep(0.05)\n",
    "    end\n",
    "end"
   ]
  },
  {
   "cell_type": "code",
   "execution_count": null,
   "metadata": {},
   "outputs": [],
   "source": [
    "FailRequests"
   ]
  },
  {
   "cell_type": "code",
   "execution_count": null,
   "metadata": {},
   "outputs": [],
   "source": [
    "Parameters = Dict(:api_key => (ENV[\"AlphaVantage_Key4\"]),\n",
    "    :Interval => \"5min\", :SaveDir => DataDir * \"Raw-Data/AlphaVantage/5min-ForEx/\")\n",
    "Markets = String[\"USD\", \"CNY\", \"EUR\", \"JPY\", \"GBP\",\n",
    "    \"KRW\", \"INR\", \"CAD\", \"HKD\", \"AUD\", \"BRL\", \"CHF\",\n",
    "    \"RUB\", \"MXN\", \"SGD\", \"IDR\", \"AED\", \"MYR\", \"PLN\",\n",
    "    \"TRY\", \"NZD\", \"ZAR\", \"CZK\", \"ARS\", \"DKK\", \"NOK\",\n",
    "    \"SEK\", \"NGN\", \"BHD\", \"LKR\", \"UAH\"]\n",
    "FailRequests = Tuple[]\n",
    "p = Progress(length(Markets)^2)\n",
    "for BaseMarket ∈ Markets\n",
    "    for ToMarket ∈ Markets\n",
    "        next!(p)\n",
    "        update!(p)\n",
    "        filedir = Parameters[:SaveDir] * \"$BaseMarket-$ToMarket.csv\"\n",
    "        if stat(filedir).size < 5000\n",
    "            status = DataHandler.GetAVForExINTRADAYData(BaseMarket, ToMarket; Parameters...)\n",
    "            if stat(filedir).size < 5000\n",
    "                rm(filedir)\n",
    "                sleep(65)\n",
    "                status = DataHandler.GetAVForExINTRADAYData(BaseMarket, ToMarket; Parameters...)\n",
    "                if stat(filedir).size < 5000\n",
    "                    rm(filedir)\n",
    "                    sleep(65)\n",
    "                    status = DataHandler.GetAVForExINTRADAYData(BaseMarket, ToMarket; Parameters...)\n",
    "                end\n",
    "            end\n",
    "            if status != 200\n",
    "                push!(FailRequests, (BaseMarket, ToMarket, status))\n",
    "            elseif stat(filedir).size < 5000\n",
    "                rm(filedir)\n",
    "                push!(FailRequests, (BaseMarket, ToMarket))\n",
    "            end\n",
    "            sleep(20)\n",
    "        end\n",
    "        sleep(0.05)\n",
    "    end\n",
    "end"
   ]
  },
  {
   "cell_type": "code",
   "execution_count": null,
   "metadata": {},
   "outputs": [],
   "source": [
    "FailRequests"
   ]
  },
  {
   "cell_type": "code",
   "execution_count": null,
   "metadata": {},
   "outputs": [],
   "source": [
    "Parameters = Dict(:api_key => (ENV[\"AlphaVantage_Key1\"]),\n",
    "    :Interval => \"15min\", :SaveDir => DataDir * \"Raw-Data/AlphaVantage/15min-ForEx/\")\n",
    "Markets = String[\"USD\", \"CNY\", \"EUR\", \"JPY\", \"GBP\",\n",
    "    \"KRW\", \"INR\", \"CAD\", \"HKD\", \"AUD\", \"BRL\", \"CHF\",\n",
    "    \"RUB\", \"MXN\", \"SGD\", \"IDR\", \"AED\", \"MYR\", \"PLN\",\n",
    "    \"TRY\", \"NZD\", \"ZAR\", \"CZK\", \"ARS\", \"DKK\", \"NOK\",\n",
    "    \"SEK\", \"NGN\", \"BHD\", \"LKR\", \"UAH\"]\n",
    "FailRequests = Tuple[]\n",
    "p = Progress(length(Markets)^2)\n",
    "for BaseMarket ∈ Markets\n",
    "    for ToMarket ∈ Markets\n",
    "        next!(p)\n",
    "        update!(p)\n",
    "        filedir = Parameters[:SaveDir] * \"$BaseMarket-$ToMarket.csv\"\n",
    "        if stat(filedir).size < 5000\n",
    "            status = DataHandler.GetAVForExINTRADAYData(BaseMarket, ToMarket; Parameters...)\n",
    "            if stat(filedir).size < 5000\n",
    "                rm(filedir)\n",
    "                sleep(65)\n",
    "                status = DataHandler.GetAVForExINTRADAYData(BaseMarket, ToMarket; Parameters...)\n",
    "                if stat(filedir).size < 5000\n",
    "                    rm(filedir)\n",
    "                    sleep(65)\n",
    "                    status = DataHandler.GetAVForExINTRADAYData(BaseMarket, ToMarket; Parameters...)\n",
    "                end\n",
    "            end\n",
    "            if status != 200\n",
    "                push!(FailRequests, (BaseMarket, ToMarket, status))\n",
    "            elseif stat(filedir).size < 5000\n",
    "                rm(filedir)\n",
    "                push!(FailRequests, (BaseMarket, ToMarket))\n",
    "            end\n",
    "            sleep(20)\n",
    "        end\n",
    "        sleep(0.05)\n",
    "    end\n",
    "end"
   ]
  },
  {
   "cell_type": "code",
   "execution_count": null,
   "metadata": {},
   "outputs": [],
   "source": [
    "FailRequests"
   ]
  },
  {
   "cell_type": "code",
   "execution_count": null,
   "metadata": {},
   "outputs": [],
   "source": [
    "Parameters = Dict(:api_key => (ENV[\"AlphaVantage_Key2\"]),\n",
    "    :Interval => \"30min\", :SaveDir => DataDir * \"Raw-Data/AlphaVantage/30min-ForEx/\")\n",
    "Markets = String[\"USD\", \"CNY\", \"EUR\", \"JPY\", \"GBP\",\n",
    "    \"KRW\", \"INR\", \"CAD\", \"HKD\", \"AUD\", \"BRL\", \"CHF\",\n",
    "    \"RUB\", \"MXN\", \"SGD\", \"IDR\", \"AED\", \"MYR\", \"PLN\",\n",
    "    \"TRY\", \"NZD\", \"ZAR\", \"CZK\", \"ARS\", \"DKK\", \"NOK\",\n",
    "    \"SEK\", \"NGN\", \"BHD\", \"LKR\", \"UAH\"]\n",
    "FailRequests = Tuple[]\n",
    "p = Progress(length(Markets)^2)\n",
    "for BaseMarket ∈ Markets\n",
    "    for ToMarket ∈ Markets\n",
    "        next!(p)\n",
    "        update!(p)\n",
    "        filedir = Parameters[:SaveDir] * \"$BaseMarket-$ToMarket.csv\"\n",
    "        if stat(filedir).size < 5000\n",
    "            status = DataHandler.GetAVForExINTRADAYData(BaseMarket, ToMarket; Parameters...)\n",
    "            if stat(filedir).size < 5000\n",
    "                rm(filedir)\n",
    "                sleep(65)\n",
    "                status = DataHandler.GetAVForExINTRADAYData(BaseMarket, ToMarket; Parameters...)\n",
    "                if stat(filedir).size < 5000\n",
    "                    rm(filedir)\n",
    "                    sleep(65)\n",
    "                    status = DataHandler.GetAVForExINTRADAYData(BaseMarket, ToMarket; Parameters...)\n",
    "                end\n",
    "            end\n",
    "            if status != 200\n",
    "                push!(FailRequests, (BaseMarket, ToMarket, status))\n",
    "            elseif stat(filedir).size < 5000\n",
    "                rm(filedir)\n",
    "                push!(FailRequests, (BaseMarket, ToMarket))\n",
    "            end\n",
    "            sleep(20)\n",
    "        end\n",
    "        sleep(0.05)\n",
    "    end\n",
    "end"
   ]
  },
  {
   "cell_type": "code",
   "execution_count": null,
   "metadata": {},
   "outputs": [],
   "source": [
    "FailRequests"
   ]
  }
 ],
 "metadata": {
  "kernelspec": {
   "display_name": "Julia 1.7.2",
   "language": "julia",
   "name": "julia-1.7"
  },
  "language_info": {
   "file_extension": ".jl",
   "mimetype": "application/julia",
   "name": "julia",
   "version": "1.7.2"
  },
  "orig_nbformat": 4
 },
 "nbformat": 4,
 "nbformat_minor": 2
}
